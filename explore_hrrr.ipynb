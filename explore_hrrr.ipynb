{
 "cells": [
  {
   "cell_type": "code",
   "execution_count": 7,
   "metadata": {
    "collapsed": true
   },
   "outputs": [],
   "source": [
    "from datetime import datetime, timedelta\n",
    "from herbie import Herbie, Herbie_latest, FastHerbie\n",
    "\n",
    "\n",
    "# https://mesowest.utah.edu/html/hrrr/zarr_documentation/html/zarr_variables.html\n",
    "\n",
    "\n",
    "def get_latest_hrrr_time():\n",
    "    current_time = datetime.utcnow()\n",
    "\n",
    "    if current_time.hour < 6:\n",
    "        forecast_time = current_time.replace(hour=0, minute=0, second=0, microsecond=0)\n",
    "    elif current_time.hour < 12:\n",
    "        forecast_time = current_time.replace(hour=6, minute=0, second=0, microsecond=0)\n",
    "    elif current_time.hour < 18:\n",
    "        forecast_time = current_time.replace(hour=12, minute=0, second=0, microsecond=0)\n",
    "    else:\n",
    "        forecast_time = current_time.replace(hour=18, minute=0, second=0, microsecond=0)\n",
    "\n",
    "    return forecast_time.strftime('%Y-%m-%d %H:%M:%S')\n",
    "\n",
    "H = Herbie(get_latest_hrrr_time())\n",
    "near_surface_smoke_data = H.xarray('MASSDEN')\n",
    "near_surface_smoke_data = near_surface_smoke_data.mdens.to_pandas()\n",
    "near_surface_smoke_data.to_parquet('weather_data/hrrr/near_surface_smoke.parquet')"
   ]
  },
  {
   "cell_type": "code",
   "execution_count": 18,
   "outputs": [],
   "source": [],
   "metadata": {
    "collapsed": false
   }
  },
  {
   "cell_type": "code",
   "execution_count": 18,
   "outputs": [],
   "source": [],
   "metadata": {
    "collapsed": false
   }
  },
  {
   "cell_type": "code",
   "execution_count": 18,
   "outputs": [],
   "source": [],
   "metadata": {
    "collapsed": false
   }
  },
  {
   "cell_type": "code",
   "execution_count": 15,
   "outputs": [],
   "source": [],
   "metadata": {
    "collapsed": false
   }
  },
  {
   "cell_type": "code",
   "execution_count": 15,
   "outputs": [],
   "source": [],
   "metadata": {
    "collapsed": false
   }
  },
  {
   "cell_type": "code",
   "execution_count": null,
   "outputs": [],
   "source": [],
   "metadata": {
    "collapsed": false
   }
  }
 ],
 "metadata": {
  "kernelspec": {
   "display_name": "Python 3",
   "language": "python",
   "name": "python3"
  },
  "language_info": {
   "codemirror_mode": {
    "name": "ipython",
    "version": 2
   },
   "file_extension": ".py",
   "mimetype": "text/x-python",
   "name": "python",
   "nbconvert_exporter": "python",
   "pygments_lexer": "ipython2",
   "version": "2.7.6"
  }
 },
 "nbformat": 4,
 "nbformat_minor": 0
}

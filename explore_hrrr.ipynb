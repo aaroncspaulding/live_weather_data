{
 "cells": [
  {
   "cell_type": "code",
   "execution_count": 58,
   "metadata": {
    "collapsed": true
   },
   "outputs": [
    {
     "name": "stdout",
     "output_type": "stream",
     "text": [
      "✅ Found ┊ model=hrrr ┊ \u001B[3mproduct=sfc\u001B[0m ┊ \u001B[38;2;41;130;13m2023-Jun-08 12:00 UTC\u001B[92m F00\u001B[0m ┊ \u001B[38;2;255;153;0m\u001B[3mGRIB2 @ aws\u001B[0m ┊ \u001B[38;2;255;153;0m\u001B[3mIDX @ aws\u001B[0m\n"
     ]
    }
   ],
   "source": [
    "# https://mesowest.utah.edu/html/hrrr/zarr_documentation/html/zarr_variables.html\n",
    "\n",
    "import os\n",
    "import json\n",
    "from datetime import datetime, timedelta\n",
    "from herbie import Herbie\n",
    "\n",
    "base_path = os.getcwd()\n",
    "weather_base_path = os.path.join(os.path.join(base_path, 'weather_data'), 'hrrr')\n",
    "current_time = datetime.utcnow()\n",
    "\n",
    "hrrr_timebuffer = timedelta(hours=1, minutes=30)\n",
    "\n",
    "status_file_path = os.path.join(base_path, 'status.json')\n",
    "if os.path.exists(status_file_path):\n",
    "    with open(status_file_path, 'r') as file:\n",
    "        status = json.load(file)\n",
    "else:\n",
    "    status = {\n",
    "        'hrrr_last_updated_time_utc': None,\n",
    "        'hrrr_valid_time_utc': None,\n",
    "    }\n",
    "\n",
    "\n",
    "def get_latest_hrrr_time(current_time_):\n",
    "    if current_time_.hour < 6:\n",
    "        forecast_time = current_time_.replace(hour=0, minute=0, second=0, microsecond=0)\n",
    "    elif current_time_.hour < 12:\n",
    "        forecast_time = current_time_.replace(hour=6, minute=0, second=0, microsecond=0)\n",
    "    elif current_time_.hour < 18:\n",
    "        forecast_time = current_time_.replace(hour=12, minute=0, second=0, microsecond=0)\n",
    "    else:\n",
    "        forecast_time = current_time_.replace(hour=18, minute=0, second=0, microsecond=0)\n",
    "    return forecast_time\n",
    "\n",
    "\n",
    "# Update HRRR Data\n",
    "latest_hrrr_time = get_latest_hrrr_time(current_time - hrrr_timebuffer)\n",
    "H = Herbie(latest_hrrr_time.strftime('%Y-%m-%d %H:%M:%S'))\n",
    "near_surface_smoke_data = H.xarray('MASSDEN')\n",
    "near_surface_smoke_data = near_surface_smoke_data.mdens.to_pandas()\n",
    "\n",
    "status['hrrr_last_updated_time_utc'] = current_time.strftime('%Y-%m-%d %H:%M:%S')\n",
    "status['hrrr_valid_time_utc'] = latest_hrrr_time.strftime('%Y-%m-%d %H:%M:%S')\n",
    "\n",
    "near_surface_smoke_data.to_parquet(os.path.join(weather_base_path, 'near_surface_smoke.parquet'))\n",
    "\n",
    "# Write out status\n",
    "with open(status_file_path, 'w') as file:\n",
    "    json.dump(status, file, indent=4)\n"
   ]
  },
  {
   "cell_type": "code",
   "execution_count": 15,
   "outputs": [],
   "source": [],
   "metadata": {
    "collapsed": false
   }
  },
  {
   "cell_type": "code",
   "execution_count": null,
   "outputs": [],
   "source": [],
   "metadata": {
    "collapsed": false
   }
  }
 ],
 "metadata": {
  "kernelspec": {
   "display_name": "Python 3",
   "language": "python",
   "name": "python3"
  },
  "language_info": {
   "codemirror_mode": {
    "name": "ipython",
    "version": 2
   },
   "file_extension": ".py",
   "mimetype": "text/x-python",
   "name": "python",
   "nbconvert_exporter": "python",
   "pygments_lexer": "ipython2",
   "version": "2.7.6"
  }
 },
 "nbformat": 4,
 "nbformat_minor": 0
}

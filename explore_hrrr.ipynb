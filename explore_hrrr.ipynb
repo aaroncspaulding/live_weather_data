{
 "cells": [
  {
   "cell_type": "code",
   "execution_count": 27,
   "metadata": {
    "collapsed": true
   },
   "outputs": [
    {
     "name": "stdout",
     "output_type": "stream",
     "text": [
      "✅ Found ┊ model=hrrr ┊ \u001B[3mproduct=sfc\u001B[0m ┊ \u001B[38;2;41;130;13m2023-Jun-08 12:00 UTC\u001B[92m F00\u001B[0m ┊ \u001B[38;2;255;153;0m\u001B[3mGRIB2 @ aws\u001B[0m ┊ \u001B[38;2;255;153;0m\u001B[3mIDX @ aws\u001B[0m\n"
     ]
    }
   ],
   "source": [
    "import os\n",
    "from datetime import datetime, timedelta\n",
    "from herbie import Herbie, Herbie_latest, FastHerbie\n",
    "\n",
    "\n",
    "# https://mesowest.utah.edu/html/hrrr/zarr_documentation/html/zarr_variables.html\n",
    "base_path = os.path.join(os.path.join(os.getcwd(), 'weather_data'), 'hrrr')\n",
    "\n",
    "def get_latest_hrrr_time():\n",
    "    current_time = datetime.utcnow()\n",
    "\n",
    "    if current_time.hour < 6:\n",
    "        forecast_time = current_time.replace(hour=0, minute=0, second=0, microsecond=0)\n",
    "    elif current_time.hour < 12:\n",
    "        forecast_time = current_time.replace(hour=6, minute=0, second=0, microsecond=0)\n",
    "    elif current_time.hour < 18:\n",
    "        forecast_time = current_time.replace(hour=12, minute=0, second=0, microsecond=0)\n",
    "    else:\n",
    "        forecast_time = current_time.replace(hour=18, minute=0, second=0, microsecond=0)\n",
    "\n",
    "    return forecast_time.strftime('%Y-%m-%d %H:%M:%S')\n",
    "\n",
    "H = Herbie(get_latest_hrrr_time())\n",
    "near_surface_smoke_data = H.xarray('MASSDEN')\n",
    "near_surface_smoke_data = near_surface_smoke_data.mdens.to_pandas()\n",
    "near_surface_smoke_data.to_parquet(os.path.join(base_path, 'near_surface_smoke.parquet'))"
   ]
  },
  {
   "cell_type": "code",
   "execution_count": 25,
   "outputs": [],
   "source": [],
   "metadata": {
    "collapsed": false
   }
  },
  {
   "cell_type": "code",
   "execution_count": 18,
   "outputs": [],
   "source": [],
   "metadata": {
    "collapsed": false
   }
  },
  {
   "cell_type": "code",
   "execution_count": 15,
   "outputs": [],
   "source": [],
   "metadata": {
    "collapsed": false
   }
  },
  {
   "cell_type": "code",
   "execution_count": 15,
   "outputs": [],
   "source": [],
   "metadata": {
    "collapsed": false
   }
  },
  {
   "cell_type": "code",
   "execution_count": null,
   "outputs": [],
   "source": [],
   "metadata": {
    "collapsed": false
   }
  }
 ],
 "metadata": {
  "kernelspec": {
   "display_name": "Python 3",
   "language": "python",
   "name": "python3"
  },
  "language_info": {
   "codemirror_mode": {
    "name": "ipython",
    "version": 2
   },
   "file_extension": ".py",
   "mimetype": "text/x-python",
   "name": "python",
   "nbconvert_exporter": "python",
   "pygments_lexer": "ipython2",
   "version": "2.7.6"
  }
 },
 "nbformat": 4,
 "nbformat_minor": 0
}

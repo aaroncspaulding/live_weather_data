{
 "cells": [
  {
   "cell_type": "code",
   "execution_count": null,
   "outputs": [],
   "source": [],
   "metadata": {
    "collapsed": false
   }
  },
  {
   "cell_type": "code",
   "execution_count": 4,
   "metadata": {
    "collapsed": true,
    "ExecuteTime": {
     "end_time": "2023-06-09T19:28:02.314211Z",
     "start_time": "2023-06-09T19:28:02.311265Z"
    }
   },
   "outputs": [],
   "source": [
    "# https://mesowest.utah.edu/html/hrrr/zarr_documentation/html/zarr_variables.html\n",
    "\n",
    "import os\n",
    "import json\n",
    "from datetime import datetime, timedelta\n",
    "from herbie import Herbie\n",
    "\n",
    "base_path = os.getcwd()\n",
    "weather_base_path = os.path.join(os.path.join(base_path, 'weather_data'), 'hrrr')\n",
    "current_time = datetime.utcnow()\n",
    "\n",
    "hrrr_timebuffer = timedelta(hours=1, minutes=30)\n",
    "\n",
    "status_file_path = os.path.join(base_path, 'status.json')\n",
    "if os.path.exists(status_file_path):\n",
    "    with open(status_file_path, 'r') as file:\n",
    "        status = json.load(file)\n",
    "else:\n",
    "    status = {\n",
    "        'hrrr_last_updated_time_utc': None,\n",
    "        'hrrr_valid_time_utc': None,\n",
    "    }\n",
    "\n",
    "\n",
    "def get_latest_hrrr_time(current_time_):\n",
    "    if current_time_.hour < 6:\n",
    "        forecast_time = current_time_.replace(hour=0, minute=0, second=0, microsecond=0)\n",
    "    elif current_time_.hour < 12:\n",
    "        forecast_time = current_time_.replace(hour=6, minute=0, second=0, microsecond=0)\n",
    "    elif current_time_.hour < 18:\n",
    "        forecast_time = current_time_.replace(hour=12, minute=0, second=0, microsecond=0)\n",
    "    else:\n",
    "        forecast_time = current_time_.replace(hour=18, minute=0, second=0, microsecond=0)\n",
    "    return forecast_time"
   ]
  },
  {
   "cell_type": "code",
   "execution_count": 5,
   "outputs": [
    {
     "name": "stdout",
     "output_type": "stream",
     "text": [
      "✅ Found ┊ model=hrrr ┊ \u001B[3mproduct=sfc\u001B[0m ┊ \u001B[38;2;41;130;13m2023-Jun-09 12:00 UTC\u001B[92m F00\u001B[0m ┊ \u001B[38;2;255;153;0m\u001B[3mGRIB2 @ aws\u001B[0m ┊ \u001B[38;2;255;153;0m\u001B[3mIDX @ aws\u001B[0m\n"
     ]
    }
   ],
   "source": [
    "hrrr_variables = {'MASSDEN': 'near_surface_smoke'}\n",
    "latest_hrrr_time = get_latest_hrrr_time(current_time - hrrr_timebuffer)\n",
    "H = Herbie(latest_hrrr_time.strftime('%Y-%m-%d %H:%M:%S'),\n",
    "           model='hrrr',\n",
    "           product='sfc',\n",
    "           fxx=0)\n",
    "\n",
    "data = H.xarray(':TMP:2 m')\n",
    "latitude_coordinates = data.latitude.to_pandas()\n",
    "longitude_coordinates = data.longitude.to_pandas()\n",
    "\n",
    "latitude_coordinates.to_parquet(os.path.join(weather_base_path, 'latitudes.parquet'))\n",
    "longitude_coordinates.to_parquet(os.path.join(weather_base_path, 'longitude.parquet'))"
   ],
   "metadata": {
    "collapsed": false,
    "ExecuteTime": {
     "end_time": "2023-06-09T19:28:03.245179Z",
     "start_time": "2023-06-09T19:28:02.980610Z"
    }
   }
  },
  {
   "cell_type": "code",
   "execution_count": 22,
   "outputs": [
    {
     "data": {
      "text/plain": "'/Users/aaronspaulding/Documents/PycharmProjects/live_weather_data/weather_data/hrrr/longitude.parquet'"
     },
     "execution_count": 22,
     "metadata": {},
     "output_type": "execute_result"
    }
   ],
   "source": [
    "os.path.join(weather_base_path, 'longitude.parquet')"
   ],
   "metadata": {
    "collapsed": false,
    "ExecuteTime": {
     "end_time": "2023-06-09T19:33:34.613534Z",
     "start_time": "2023-06-09T19:33:34.609484Z"
    }
   }
  },
  {
   "cell_type": "code",
   "execution_count": 22,
   "outputs": [],
   "source": [],
   "metadata": {
    "collapsed": false,
    "ExecuteTime": {
     "end_time": "2023-06-09T19:33:39.253577Z",
     "start_time": "2023-06-09T19:33:39.250617Z"
    }
   }
  },
  {
   "cell_type": "code",
   "execution_count": 22,
   "outputs": [],
   "source": [],
   "metadata": {
    "collapsed": false,
    "ExecuteTime": {
     "end_time": "2023-06-09T19:33:39.556063Z",
     "start_time": "2023-06-09T19:33:39.551529Z"
    }
   }
  },
  {
   "cell_type": "code",
   "execution_count": null,
   "outputs": [],
   "source": [],
   "metadata": {
    "collapsed": false
   }
  }
 ],
 "metadata": {
  "kernelspec": {
   "display_name": "Python 3",
   "language": "python",
   "name": "python3"
  },
  "language_info": {
   "codemirror_mode": {
    "name": "ipython",
    "version": 2
   },
   "file_extension": ".py",
   "mimetype": "text/x-python",
   "name": "python",
   "nbconvert_exporter": "python",
   "pygments_lexer": "ipython2",
   "version": "2.7.6"
  }
 },
 "nbformat": 4,
 "nbformat_minor": 0
}
